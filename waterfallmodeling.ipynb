{
  "nbformat": 4,
  "nbformat_minor": 0,
  "metadata": {
    "colab": {
      "provenance": [],
      "authorship_tag": "ABX9TyOACGb24n1lbPBbLnG8mNCK",
      "include_colab_link": true
    },
    "kernelspec": {
      "name": "python3",
      "display_name": "Python 3"
    },
    "language_info": {
      "name": "python"
    }
  },
  "cells": [
    {
      "cell_type": "markdown",
      "metadata": {
        "id": "view-in-github",
        "colab_type": "text"
      },
      "source": [
        "<a href=\"https://colab.research.google.com/github/Preethigit7/project/blob/main/waterfallmodeling.ipynb\" target=\"_parent\"><img src=\"https://colab.research.google.com/assets/colab-badge.svg\" alt=\"Open In Colab\"/></a>"
      ]
    },
    {
      "cell_type": "code",
      "execution_count": 1,
      "metadata": {
        "colab": {
          "base_uri": "https://localhost:8080/"
        },
        "id": "JAfPSxKt8D6w",
        "outputId": "1a83acd4-61a1-4ec2-87c6-27af1aaa4b8b"
      },
      "outputs": [
        {
          "output_type": "stream",
          "name": "stdout",
          "text": [
            "Stage 1: Hardcoded Variables\n",
            "Roots: 2.0, 1.0\n",
            "\n",
            "Stage 2: Keyboard Input\n",
            "Enter coefficient a: 4\n",
            "Enter coefficient b: 4\n",
            "Enter coefficient c: 6\n",
            "No real roots\n",
            "\n",
            "Stage 3 and 4: File Input (Single Set)\n",
            "Error: [Errno 2] No such file or directory: 'input.txt'\n",
            "\n",
            "Stage 5: File Input (Multiple Sets)\n",
            "Error: [Errno 2] No such file or directory: 'input.txt'\n"
          ]
        }
      ],
      "source": [
        "import sys\n",
        "\n",
        "def solve_quadratic(a, b, c):\n",
        "    \"\"\"Solve the quadratic equation ax^2 + bx + c = 0.\"\"\"\n",
        "    discriminant = b**2 - 4*a*c\n",
        "\n",
        "    if discriminant > 0:\n",
        "        root1 = (-b + discriminant**0.5) / (2 * a)\n",
        "        root2 = (-b - discriminant**0.5) / (2 * a)\n",
        "        return f\"Roots: {root1}, {root2}\"\n",
        "    elif discriminant == 0:\n",
        "        root = -b / (2 * a)\n",
        "        return f\"Root: {root}\"\n",
        "    else:\n",
        "        return \"No real roots\"\n",
        "\n",
        "\n",
        "def hardcoded_input():\n",
        "    \"\"\"Stage 1: Hardcoded variables.\"\"\"\n",
        "    print(\"Stage 1: Hardcoded Variables\")\n",
        "    a, b, c = 1, -3, 2  # Hardcoded values\n",
        "    print(solve_quadratic(a, b, c))\n",
        "\n",
        "\n",
        "def keyboard_input():\n",
        "    \"\"\"Stage 2: Keyboard input.\"\"\"\n",
        "    print(\"\\nStage 2: Keyboard Input\")\n",
        "    a = float(input(\"Enter coefficient a: \"))\n",
        "    b = float(input(\"Enter coefficient b: \"))\n",
        "    c = float(input(\"Enter coefficient c: \"))\n",
        "    print(solve_quadratic(a, b, c))\n",
        "\n",
        "\n",
        "def file_input_single():\n",
        "    \"\"\"Stage 3 and 4: Read from file (single set of inputs).\"\"\"\n",
        "    print(\"\\nStage 3 and 4: File Input (Single Set)\")\n",
        "    try:\n",
        "        with open(\"input.txt\", \"r\") as file:\n",
        "            data = file.readline().split()\n",
        "            a, b, c = map(float, data)\n",
        "            print(solve_quadratic(a, b, c))\n",
        "    except Exception as e:\n",
        "        print(f\"Error: {e}\")\n",
        "\n",
        "\n",
        "def file_input_multiple():\n",
        "    \"\"\"Stage 5: Read from file (multiple sets of inputs).\"\"\"\n",
        "    print(\"\\nStage 5: File Input (Multiple Sets)\")\n",
        "    try:\n",
        "        with open(\"input.txt\", \"r\") as file:\n",
        "            for line in file:\n",
        "                a, b, c = map(float, line.split())\n",
        "                print(solve_quadratic(a, b, c))\n",
        "    except Exception as e:\n",
        "        print(f\"Error: {e}\")\n",
        "\n",
        "\n",
        "def main():\n",
        "    \"\"\"Main function to execute all stages.\"\"\"\n",
        "    hardcoded_input()         # Stage 1\n",
        "    keyboard_input()          # Stage 2\n",
        "    file_input_single()       # Stage 3 and 4\n",
        "    file_input_multiple()     # Stage 5\n",
        "\n",
        "\n",
        "if __name__ == \"__main__\":\n",
        "    main()"
      ]
    }
  ]
}