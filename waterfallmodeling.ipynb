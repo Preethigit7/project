{
  "nbformat": 4,
  "nbformat_minor": 0,
  "metadata": {
    "colab": {
      "provenance": [],
      "authorship_tag": "ABX9TyOIqupySR/jteetdlJ64TzG",
      "include_colab_link": true
    },
    "kernelspec": {
      "name": "python3",
      "display_name": "Python 3"
    },
    "language_info": {
      "name": "python"
    }
  },
  "cells": [
    {
      "cell_type": "markdown",
      "metadata": {
        "id": "view-in-github",
        "colab_type": "text"
      },
      "source": [
        "<a href=\"https://colab.research.google.com/github/Preethigit7/project/blob/main/waterfallmodeling.ipynb\" target=\"_parent\"><img src=\"https://colab.research.google.com/assets/colab-badge.svg\" alt=\"Open In Colab\"/></a>"
      ]
    },
    {
      "cell_type": "markdown",
      "source": [
        "1.\tImplement waterfall modeling* using the quadratic solution in stages: hard-coding variables keyboard input, read from a file, for a single set of input, multiple sets of inputs.\n",
        "\n",
        "a. save all versions, debug, fix problems, create a Github account\n",
        "\n",
        "Implementation outline for weather modeling using a quadratic solution. The approach evolves in stages:\n",
        "1.\tHardcoding variables.\n",
        "2.\tAccepting variables via keyboard input.\n",
        "3.\tReading variables from a file.\n",
        "4.\tProcessing a single set of inputs.\n",
        "5.\tProcessing multiple sets of inputs.\n",
        "At the end, you will save the versions, debug, fix issues, and push the project to GitHub."
      ],
      "metadata": {
        "id": "LrX97Mi-82mn"
      }
    },
    {
      "cell_type": "code",
      "execution_count": 12,
      "metadata": {
        "colab": {
          "base_uri": "https://localhost:8080/"
        },
        "id": "JAfPSxKt8D6w",
        "outputId": "ae650867-0473-4f6e-8968-a0927c353889"
      },
      "outputs": [
        {
          "output_type": "stream",
          "name": "stdout",
          "text": [
            "Stage 1: Hardcoded Variables\n",
            "Roots: 2.0, 1.0\n",
            "\n",
            "Stage 2: Keyboard Input\n",
            "Enter coefficient a: 1\n",
            "Enter coefficient b: 1\n",
            "Enter coefficient c: 1\n",
            "No real roots\n",
            "\n",
            "Stage 3 and 4: File Input (Single Set)\n",
            "Roots: 2.0, 1.0\n",
            "\n",
            "Stage 5: File Input (Multiple Sets)\n",
            "Roots: 2.0, 1.0\n",
            "Root: 1.0\n"
          ]
        }
      ],
      "source": [
        "import sys\n",
        "def solve_quadratic(a, b, c):\n",
        "    \"\"\"Solve the quadratic equation ax^2 + bx + c = 0.\"\"\"\n",
        "    discriminant = b**2 - 4*a*c\n",
        "\n",
        "    if discriminant > 0:\n",
        "        root1 = (-b + discriminant**0.5) / (2 * a)\n",
        "        root2 = (-b - discriminant**0.5) / (2 * a)\n",
        "        return f\"Roots: {root1}, {root2}\"\n",
        "    elif discriminant == 0:\n",
        "        root = -b / (2 * a)\n",
        "        return f\"Root: {root}\"\n",
        "    else:\n",
        "        return \"No real roots\"\n",
        "\n",
        "\n",
        "def hardcoded_input():\n",
        "    \"\"\"Stage 1: Hardcoded variables.\"\"\"\n",
        "    print(\"Stage 1: Hardcoded Variables\")\n",
        "    a, b, c = 1, -3, 2\n",
        "    print(solve_quadratic(a, b, c))\n",
        "\n",
        "\n",
        "def keyboard_input():\n",
        "    \"\"\"Stage 2: Keyboard input.\"\"\"\n",
        "    print(\"\\nStage 2: Keyboard Input\")\n",
        "    a = float(input(\"Enter coefficient a: \"))\n",
        "    b = float(input(\"Enter coefficient b: \"))\n",
        "    c = float(input(\"Enter coefficient c: \"))\n",
        "    print(solve_quadratic(a, b, c))\n",
        "\n",
        "\n",
        "def file_input_single():\n",
        "    \"\"\"Stage 3 and 4: Read from file (single set of inputs).\"\"\"\n",
        "    print(\"\\nStage 3 and 4: File Input (Single Set)\")\n",
        "    try:\n",
        "        with open(\"input.txt\", \"r\") as file:\n",
        "            data = file.readline().split()\n",
        "            a, b, c = map(float, data)\n",
        "            print(solve_quadratic(a, b, c))\n",
        "    except Exception as e:\n",
        "        print(f\"Error: {e}\")\n",
        "\n",
        "\n",
        "def file_input_multiple():\n",
        "    \"\"\"Stage 5: Read from file (multiple sets of inputs).\"\"\"\n",
        "    print(\"\\nStage 5: File Input (Multiple Sets)\")\n",
        "    try:\n",
        "        with open(\"input.txt\", \"r\") as file:\n",
        "            for line in file:\n",
        "                a, b, c = map(float, line.split())\n",
        "                print(solve_quadratic(a, b, c))\n",
        "    except Exception as e:\n",
        "        print(f\"Error: {e}\")\n",
        "\n",
        "\n",
        "def main():\n",
        "    \"\"\"Main function to execute all stages.\"\"\"\n",
        "    hardcoded_input()\n",
        "    keyboard_input()\n",
        "    file_input_single()\n",
        "    file_input_multiple()\n",
        "\n",
        "\n",
        "if __name__ == \"__main__\":\n",
        "    main()"
      ]
    }
  ]
}