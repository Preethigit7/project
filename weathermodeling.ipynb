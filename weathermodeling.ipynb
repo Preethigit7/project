{
  "nbformat": 4,
  "nbformat_minor": 0,
  "metadata": {
    "colab": {
      "provenance": [],
      "authorship_tag": "ABX9TyNFyu6REpVtrfoqueBM9SVc",
      "include_colab_link": true
    },
    "kernelspec": {
      "name": "python3",
      "display_name": "Python 3"
    },
    "language_info": {
      "name": "python"
    }
  },
  "cells": [
    {
      "cell_type": "markdown",
      "metadata": {
        "id": "view-in-github",
        "colab_type": "text"
      },
      "source": [
        "<a href=\"https://colab.research.google.com/github/Preethigit7/project/blob/main/weathermodeling.ipynb\" target=\"_parent\"><img src=\"https://colab.research.google.com/assets/colab-badge.svg\" alt=\"Open In Colab\"/></a>"
      ]
    },
    {
      "cell_type": "markdown",
      "source": [],
      "metadata": {
        "id": "GYLos6TF4zVm"
      }
    },
    {
      "cell_type": "markdown",
      "source": [
        "1) Implement weather modeling using the quadratic solution in stages:hard-coding variables keyboard input , read from a file,a single set of input,multiple sets of inputs\n",
        "\n",
        "a) Save all versions, debug, fix problems, create Github account.\n",
        "\n",
        "Implementation outline for weather modeling using a quadratic solution. The approach evolves in stages.\n",
        "\n",
        "1) Hardcoding variables\n",
        "\n",
        "2) Accepting variables via Keyboard input.\n",
        "\n",
        "3) Reading variable from a file\n",
        "\n",
        "4) Processing a single set of inputs\n",
        "\n",
        "5)Processing multiple sets of inputs.\n",
        "\n",
        "At the end, you will save the versions, debug, fix issues, and push the project to GitHub."
      ],
      "metadata": {
        "id": "Nz-z1Nqa4zWq"
      }
    },
    {
      "cell_type": "code",
      "source": [],
      "metadata": {
        "id": "ewDUERrw7xi-"
      },
      "execution_count": null,
      "outputs": []
    },
    {
      "cell_type": "code",
      "source": [
        "# prompt: 1) Implement weather modeling using the quadratic solution in stages:hard-coding variables keyboard input , read from a file,a single set of input,multiple sets of inputs\n",
        "# a) Save all versions, debug, fix problems, create Github account.\n",
        "# Implementation outline for weather modeling using a quadratic solution. The approach evolves in stages.\n",
        "# 1) Hardcoding variables\n",
        "# 2) Accepting variables via Keyboard input.\n",
        "# 3) Reading variable from a file\n",
        "# 4) Processing a single set of inputs\n",
        "\n",
        "# Stage 1: Hardcoding variables\n",
        "def weather_model_hardcoded():\n",
        "    temperature = 25  # degrees Celsius\n",
        "    humidity = 60  # percentage\n",
        "    wind_speed = 10  # km/h\n",
        "\n",
        "    # Placeholder quadratic equation (replace with actual weather model)\n",
        "    perceived_temperature = temperature**2 / 100 + humidity + wind_speed\n",
        "\n",
        "    print(\"Hardcoded Weather Model:\")\n",
        "    print(f\"Temperature: {temperature}°C, Humidity: {humidity}%, Wind Speed: {wind_speed} km/h\")\n",
        "    print(f\"Perceived Temperature: {perceived_temperature}\")\n",
        "\n",
        "# Stage 2: Keyboard input\n",
        "def weather_model_keyboard():\n",
        "    temperature = float(input(\"Enter temperature (°C): \"))\n",
        "    humidity = float(input(\"Enter humidity (%): \"))\n",
        "    wind_speed = float(input(\"Enter wind speed (km/h): \"))\n",
        "\n",
        "    # Placeholder quadratic equation\n",
        "    perceived_temperature = temperature**2 / 100 + humidity + wind_speed\n",
        "\n",
        "    print(\"\\nKeyboard Input Weather Model:\")\n",
        "    print(f\"Temperature: {temperature}°C, Humidity: {humidity}%, Wind Speed: {wind_speed} km/h\")\n",
        "    print(f\"Perceived Temperature: {perceived_temperature}\")\n",
        "\n",
        "# Stage 3: Reading variables from a file (example.txt)\n",
        "def weather_model_file(filename=\"example.txt\"):\n",
        "    try:\n",
        "        with open(filename, \"r\") as file:\n",
        "            temperature = float(file.readline())\n",
        "            humidity = float(file.readline())\n",
        "            wind_speed = float(file.readline())\n",
        "\n",
        "        # Placeholder quadratic equation\n",
        "        perceived_temperature = temperature**2 / 100 + humidity + wind_speed\n",
        "\n",
        "        print(f\"\\nFile Input Weather Model (from {filename}):\")\n",
        "        print(f\"Temperature: {temperature}°C, Humidity: {humidity}%, Wind Speed: {wind_speed} km/h\")\n",
        "        print(f\"Perceived Temperature: {perceived_temperature}\")\n",
        "\n",
        "    except FileNotFoundError:\n",
        "        print(f\"Error: File '{filename}' not found.\")\n",
        "    except ValueError:\n",
        "        print(\"Error: Invalid data format in the file.\")\n",
        "    except Exception as e:\n",
        "        print(f\"An unexpected error occurred: {e}\")\n",
        "\n",
        "# Stage 4: Processing a single set of inputs (combining previous stages)\n",
        "\n",
        "# Example usage\n",
        "weather_model_hardcoded()\n",
        "weather_model_keyboard()\n",
        "weather_model_file()\n",
        "\n",
        "# Create a sample file \"example.txt\"\n",
        "with open(\"example.txt\", \"w\") as file:\n",
        "  file.write(\"28\\n\")\n",
        "  file.write(\"70\\n\")\n",
        "  file.write(\"15\\n\")"
      ],
      "metadata": {
        "colab": {
          "base_uri": "https://localhost:8080/"
        },
        "id": "9RTTSzdO6_cI",
        "outputId": "83c49c3c-34f5-40c1-c1ef-8357f3764080"
      },
      "execution_count": 1,
      "outputs": [
        {
          "output_type": "stream",
          "name": "stdout",
          "text": [
            "Hardcoded Weather Model:\n",
            "Temperature: 25°C, Humidity: 60%, Wind Speed: 10 km/h\n",
            "Perceived Temperature: 76.25\n",
            "Enter temperature (°C): 55.8\n",
            "Enter humidity (%): 5\n",
            "Enter wind speed (km/h): 46\n",
            "\n",
            "Keyboard Input Weather Model:\n",
            "Temperature: 55.8°C, Humidity: 5.0%, Wind Speed: 46.0 km/h\n",
            "Perceived Temperature: 82.1364\n",
            "Error: File 'example.txt' not found.\n"
          ]
        }
      ]
    }
  ]
}